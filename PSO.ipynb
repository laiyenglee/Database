{
  "nbformat": 4,
  "nbformat_minor": 0,
  "metadata": {
    "colab": {
      "name": "PSO",
      "provenance": [],
      "collapsed_sections": [],
      "authorship_tag": "ABX9TyPCqW0xCXnfPZxuyupmo3bl",
      "include_colab_link": true
    },
    "kernelspec": {
      "name": "python3",
      "display_name": "Python 3"
    },
    "language_info": {
      "name": "python"
    }
  },
  "cells": [
    {
      "cell_type": "markdown",
      "metadata": {
        "id": "view-in-github",
        "colab_type": "text"
      },
      "source": [
        "<a href=\"https://colab.research.google.com/github/laiyenglee/Database/blob/main/PSO.ipynb\" target=\"_parent\"><img src=\"https://colab.research.google.com/assets/colab-badge.svg\" alt=\"Open In Colab\"/></a>"
      ]
    },
    {
      "cell_type": "code",
      "execution_count": null,
      "metadata": {
        "id": "3KEWWa3uyper"
      },
      "outputs": [],
      "source": [
        "import numpy as np\n",
        "import matplotlib.pyplot as plt\n",
        "import pandas as pd\n",
        "%matplotlib inline\n",
        "from sklearn.preprocessing import normalize\n",
        "from typing import Tuple"
      ]
    },
    {
      "cell_type": "code",
      "source": [
        "from sklearn.metrics import f1_score\n",
        "from sklearn.metrics import recall_score\n",
        "from sklearn.metrics import precision_score\n",
        "from sklearn.cluster import KMeans"
      ],
      "metadata": {
        "id": "dYjuLnXzJoZh"
      },
      "execution_count": null,
      "outputs": []
    },
    {
      "cell_type": "code",
      "source": [
        "from google.colab import drive\n",
        "drive.mount('/content/gdrive')"
      ],
      "metadata": {
        "colab": {
          "base_uri": "https://localhost:8080/"
        },
        "id": "ikv_SiXc16bK",
        "outputId": "0dfefe39-e428-473a-8766-02477d8c4498"
      },
      "execution_count": null,
      "outputs": [
        {
          "output_type": "stream",
          "name": "stdout",
          "text": [
            "Drive already mounted at /content/gdrive; to attempt to forcibly remount, call drive.mount(\"/content/gdrive\", force_remount=True).\n"
          ]
        }
      ]
    },
    {
      "cell_type": "code",
      "source": [
        "data = pd.read_csv('gdrive/My Drive/Bloodtype.txt', sep='\\t', header=None)\n",
        "data.head()"
      ],
      "metadata": {
        "colab": {
          "base_uri": "https://localhost:8080/",
          "height": 206
        },
        "id": "ZRZiJBPQy0ES",
        "outputId": "36b411ef-9ece-4891-ed51-f554d44949c3"
      },
      "execution_count": null,
      "outputs": [
        {
          "output_type": "execute_result",
          "data": {
            "text/html": [
              "\n",
              "  <div id=\"df-cf411886-9e29-4663-be38-8ea4447db17d\">\n",
              "    <div class=\"colab-df-container\">\n",
              "      <div>\n",
              "<style scoped>\n",
              "    .dataframe tbody tr th:only-of-type {\n",
              "        vertical-align: middle;\n",
              "    }\n",
              "\n",
              "    .dataframe tbody tr th {\n",
              "        vertical-align: top;\n",
              "    }\n",
              "\n",
              "    .dataframe thead th {\n",
              "        text-align: right;\n",
              "    }\n",
              "</style>\n",
              "<table border=\"1\" class=\"dataframe\">\n",
              "  <thead>\n",
              "    <tr style=\"text-align: right;\">\n",
              "      <th></th>\n",
              "      <th>0</th>\n",
              "      <th>1</th>\n",
              "      <th>2</th>\n",
              "      <th>3</th>\n",
              "      <th>4</th>\n",
              "      <th>5</th>\n",
              "      <th>6</th>\n",
              "      <th>7</th>\n",
              "    </tr>\n",
              "  </thead>\n",
              "  <tbody>\n",
              "    <tr>\n",
              "      <th>0</th>\n",
              "      <td>15.26</td>\n",
              "      <td>14.84</td>\n",
              "      <td>0.8710</td>\n",
              "      <td>5.763</td>\n",
              "      <td>3.312</td>\n",
              "      <td>2.221</td>\n",
              "      <td>5.220</td>\n",
              "      <td>A</td>\n",
              "    </tr>\n",
              "    <tr>\n",
              "      <th>1</th>\n",
              "      <td>14.88</td>\n",
              "      <td>14.57</td>\n",
              "      <td>0.8811</td>\n",
              "      <td>5.554</td>\n",
              "      <td>3.333</td>\n",
              "      <td>1.018</td>\n",
              "      <td>4.956</td>\n",
              "      <td>A</td>\n",
              "    </tr>\n",
              "    <tr>\n",
              "      <th>2</th>\n",
              "      <td>14.29</td>\n",
              "      <td>14.09</td>\n",
              "      <td>0.9050</td>\n",
              "      <td>5.291</td>\n",
              "      <td>3.337</td>\n",
              "      <td>2.699</td>\n",
              "      <td>4.825</td>\n",
              "      <td>A</td>\n",
              "    </tr>\n",
              "    <tr>\n",
              "      <th>3</th>\n",
              "      <td>13.84</td>\n",
              "      <td>13.94</td>\n",
              "      <td>0.8955</td>\n",
              "      <td>5.324</td>\n",
              "      <td>3.379</td>\n",
              "      <td>2.259</td>\n",
              "      <td>4.805</td>\n",
              "      <td>A</td>\n",
              "    </tr>\n",
              "    <tr>\n",
              "      <th>4</th>\n",
              "      <td>16.14</td>\n",
              "      <td>14.99</td>\n",
              "      <td>0.9034</td>\n",
              "      <td>5.658</td>\n",
              "      <td>3.562</td>\n",
              "      <td>1.355</td>\n",
              "      <td>5.175</td>\n",
              "      <td>A</td>\n",
              "    </tr>\n",
              "  </tbody>\n",
              "</table>\n",
              "</div>\n",
              "      <button class=\"colab-df-convert\" onclick=\"convertToInteractive('df-cf411886-9e29-4663-be38-8ea4447db17d')\"\n",
              "              title=\"Convert this dataframe to an interactive table.\"\n",
              "              style=\"display:none;\">\n",
              "        \n",
              "  <svg xmlns=\"http://www.w3.org/2000/svg\" height=\"24px\"viewBox=\"0 0 24 24\"\n",
              "       width=\"24px\">\n",
              "    <path d=\"M0 0h24v24H0V0z\" fill=\"none\"/>\n",
              "    <path d=\"M18.56 5.44l.94 2.06.94-2.06 2.06-.94-2.06-.94-.94-2.06-.94 2.06-2.06.94zm-11 1L8.5 8.5l.94-2.06 2.06-.94-2.06-.94L8.5 2.5l-.94 2.06-2.06.94zm10 10l.94 2.06.94-2.06 2.06-.94-2.06-.94-.94-2.06-.94 2.06-2.06.94z\"/><path d=\"M17.41 7.96l-1.37-1.37c-.4-.4-.92-.59-1.43-.59-.52 0-1.04.2-1.43.59L10.3 9.45l-7.72 7.72c-.78.78-.78 2.05 0 2.83L4 21.41c.39.39.9.59 1.41.59.51 0 1.02-.2 1.41-.59l7.78-7.78 2.81-2.81c.8-.78.8-2.07 0-2.86zM5.41 20L4 18.59l7.72-7.72 1.47 1.35L5.41 20z\"/>\n",
              "  </svg>\n",
              "      </button>\n",
              "      \n",
              "  <style>\n",
              "    .colab-df-container {\n",
              "      display:flex;\n",
              "      flex-wrap:wrap;\n",
              "      gap: 12px;\n",
              "    }\n",
              "\n",
              "    .colab-df-convert {\n",
              "      background-color: #E8F0FE;\n",
              "      border: none;\n",
              "      border-radius: 50%;\n",
              "      cursor: pointer;\n",
              "      display: none;\n",
              "      fill: #1967D2;\n",
              "      height: 32px;\n",
              "      padding: 0 0 0 0;\n",
              "      width: 32px;\n",
              "    }\n",
              "\n",
              "    .colab-df-convert:hover {\n",
              "      background-color: #E2EBFA;\n",
              "      box-shadow: 0px 1px 2px rgba(60, 64, 67, 0.3), 0px 1px 3px 1px rgba(60, 64, 67, 0.15);\n",
              "      fill: #174EA6;\n",
              "    }\n",
              "\n",
              "    [theme=dark] .colab-df-convert {\n",
              "      background-color: #3B4455;\n",
              "      fill: #D2E3FC;\n",
              "    }\n",
              "\n",
              "    [theme=dark] .colab-df-convert:hover {\n",
              "      background-color: #434B5C;\n",
              "      box-shadow: 0px 1px 3px 1px rgba(0, 0, 0, 0.15);\n",
              "      filter: drop-shadow(0px 1px 2px rgba(0, 0, 0, 0.3));\n",
              "      fill: #FFFFFF;\n",
              "    }\n",
              "  </style>\n",
              "\n",
              "      <script>\n",
              "        const buttonEl =\n",
              "          document.querySelector('#df-cf411886-9e29-4663-be38-8ea4447db17d button.colab-df-convert');\n",
              "        buttonEl.style.display =\n",
              "          google.colab.kernel.accessAllowed ? 'block' : 'none';\n",
              "\n",
              "        async function convertToInteractive(key) {\n",
              "          const element = document.querySelector('#df-cf411886-9e29-4663-be38-8ea4447db17d');\n",
              "          const dataTable =\n",
              "            await google.colab.kernel.invokeFunction('convertToInteractive',\n",
              "                                                     [key], {});\n",
              "          if (!dataTable) return;\n",
              "\n",
              "          const docLinkHtml = 'Like what you see? Visit the ' +\n",
              "            '<a target=\"_blank\" href=https://colab.research.google.com/notebooks/data_table.ipynb>data table notebook</a>'\n",
              "            + ' to learn more about interactive tables.';\n",
              "          element.innerHTML = '';\n",
              "          dataTable['output_type'] = 'display_data';\n",
              "          await google.colab.output.renderOutput(dataTable, element);\n",
              "          const docLink = document.createElement('div');\n",
              "          docLink.innerHTML = docLinkHtml;\n",
              "          element.appendChild(docLink);\n",
              "        }\n",
              "      </script>\n",
              "    </div>\n",
              "  </div>\n",
              "  "
            ],
            "text/plain": [
              "       0      1       2      3      4      5      6  7\n",
              "0  15.26  14.84  0.8710  5.763  3.312  2.221  5.220  A\n",
              "1  14.88  14.57  0.8811  5.554  3.333  1.018  4.956  A\n",
              "2  14.29  14.09  0.9050  5.291  3.337  2.699  4.825  A\n",
              "3  13.84  13.94  0.8955  5.324  3.379  2.259  4.805  A\n",
              "4  16.14  14.99  0.9034  5.658  3.562  1.355  5.175  A"
            ]
          },
          "metadata": {},
          "execution_count": 4
        }
      ]
    },
    {
      "cell_type": "code",
      "source": [
        "class Particle:\n",
        "    def __init__(self, n_clusters, data, use_kmeans=True, w=0.72, c1=2.05, c2=2.05):\n",
        "        self.n_clusters = n_clusters\n",
        "        if use_kmeans:\n",
        "            k_means = KMeans(n_clusters=self.n_clusters)\n",
        "            k_means.fit(data)\n",
        "            self.centroids_position = k_means.cluster_centers_\n",
        "        else:\n",
        "            self.centroids_position = data[np.random.choice(list(range(len(data))), self.n_clusters)]\n",
        "\n",
        "        # each cluster has a centroid which is the point that represents that cluster\n",
        "        # assign k random data to k centroids\n",
        "        self.pbest_value = np.inf\n",
        "        # personal best position for all the centroids so far\n",
        "        self.pbest_position = self.centroids_position.copy()\n",
        "        self.velocity = np.zeros_like(self.centroids_position)\n",
        "        # best data clustering so far\n",
        "        self.pbest_clustering = None\n",
        "        # pso params\n",
        "        self.w = w\n",
        "        self.c1 = c1\n",
        "        self.c2 = c2\n",
        "\n",
        "    def update_pbest(self, data: np.ndarray):\n",
        "        \"\"\"\n",
        "        Updates personal best score based on the fitness function mentioned in the paper (Equation(4))\n",
        "        :return:\n",
        "        \"\"\"\n",
        "        # finding out which data points belongs to which cluster\n",
        "        # for that we have to find the distance between the data points and the centroids.\n",
        "        distances = self.get_distances(data=data)\n",
        "        # the minimum distance between a data point and a centroid indicates that, the point belongs to that cluster.\n",
        "        clusters = np.argmin(distances, axis=0)  # shape: (len(data),)\n",
        "        clusters_ids = np.unique(clusters)\n",
        "\n",
        "        # This is for when the algorithm generates less than n clusters\n",
        "        # So we find the cluster id that is missed and generate the centroid position with a random data point\n",
        "        while len(clusters_ids) != self.n_clusters:\n",
        "            deleted_clusters = np.where(np.isin(np.arange(self.n_clusters), clusters_ids) == False)[0]\n",
        "            self.centroids_position[deleted_clusters] = data[np.random.choice(list(range(len(data))), len(deleted_clusters))]\n",
        "            distances = self.get_distances(data=data)\n",
        "            clusters = np.argmin(distances, axis=0)\n",
        "            clusters_ids = np.unique(clusters)\n",
        "\n",
        "        new_value = self.fitness_function(clusters=clusters, distances=distances)\n",
        "        if new_value < self.pbest_value:\n",
        "            self.pbest_value = new_value\n",
        "            self.pbest_position = self.centroids_position.copy()\n",
        "            self.pbest_clustering = clusters.copy()\n",
        "\n",
        "    def update_velocity(self, gbest_position: np.ndarray):\n",
        "        \"\"\"\n",
        "        Updates new velocity based on the current velocity, personal best position so far, and the swarm (global) best\n",
        "        position so far.\n",
        "        :param gb_pos: vector of best centroid positions among all particles so far\n",
        "        :return:\n",
        "        \"\"\"\n",
        "        self.velocity = self.w * self.velocity + \\\n",
        "                        self.c1 * np.random.random() * (self.pbest_position - self.centroids_position) + \\\n",
        "                        self.c2 * np.random.random() * (gbest_position - self.centroids_position)\n",
        "\n",
        "    def move_centroids(self, gbest_position):\n",
        "        self.update_velocity(gbest_position= gbest_position)\n",
        "        new_position = self.centroids_position + self.velocity\n",
        "        self.centroids_position = new_position.copy()\n",
        "\n",
        "    def get_distances(self, data: np.ndarray) -> np.ndarray:\n",
        "        \"\"\"\n",
        "        Calculates the Euclidean distance between data and centroids\n",
        "        :param data:\n",
        "        :return: distances: a numpy array of distances (len(centroids) x len(data))\n",
        "        \"\"\"\n",
        "        distances = []\n",
        "        for centroid in self.centroids_position:\n",
        "            # calculate euclidean distance --> square root of sum of absolute squares\n",
        "            d = np.linalg.norm(data - centroid, axis=1)\n",
        "            distances.append(d)\n",
        "        distances = np.array(distances)\n",
        "        return distances\n",
        "\n",
        "    def fitness_function(self, clusters: np.ndarray, distances: np.ndarray) -> float:\n",
        "        \"\"\"\n",
        "        Calculates the fitness function ( Equation 4)\n",
        "        i is the index of particle\n",
        "        j is the index of clusters in the particle i\n",
        "        p is the vector of the input data indices belonging the cluster[ij]\n",
        "        z[p] is the vector of the input data belonging the cluster[ij]\n",
        "        d is a vector of distances between z(p) and centroid j\n",
        "        :param clusters:\n",
        "        :param distances:\n",
        "        :return: J:\n",
        "        \"\"\"\n",
        "        J = 0.0\n",
        "        for i in range(self.n_clusters):\n",
        "            p = np.where(clusters == i)[0]\n",
        "            if len(p):\n",
        "                d = sum(distances[i][p])\n",
        "                d /= len(p)\n",
        "                J += d\n",
        "        J /= self.n_clusters\n",
        "        return J"
      ],
      "metadata": {
        "id": "tHqKhKA_6H_p"
      },
      "execution_count": null,
      "outputs": []
    },
    {
      "cell_type": "code",
      "source": [
        "class PSOClustering:\n",
        "    def __init__(self, n_clusters: int, n_particles: int, data: np.ndarray, hybrid=True, w=0.72, c1=2.05, c2=2.05):\n",
        "        \"\"\"\n",
        "        Initializes the swarm.\n",
        "        :param n_clusters: number of clusters\n",
        "        :param n_particles: number of particles\n",
        "        :param data: ( number_of_points x dimensions)\n",
        "        :param hybrid: bool : whether or not use kmeans as seeding\n",
        "        :param w:\n",
        "        :param c1:\n",
        "        :param c2:\n",
        "        \"\"\"\n",
        "        self.n_clusters = n_clusters\n",
        "        self.n_particles = n_particles\n",
        "        self.data = data\n",
        "\n",
        "        self.particles = []\n",
        "        # for storing global best\n",
        "        self.gbest_position = None\n",
        "        self.gbest_value = np.inf\n",
        "        # global best data clustering so far\n",
        "        # for each data point will contain the cluster number\n",
        "        self.gbest_clustering = None\n",
        "\n",
        "        self.generate_particles(hybrid, w, c1, c2)\n",
        "\n",
        "    def print_initial(self, iteration, plot):\n",
        "        print('Initialing swarm with', self.n_particles, 'PARTICLES, ', self.n_clusters, 'CLUSTERS with', iteration,\n",
        "              'MAX ITERATIONS and with PLOT =', plot, '***')\n",
        "        print('Data=', self.data.shape[0], 'points in', self.data.shape[1], 'dimensions')\n",
        "\n",
        "    def generate_particles(self, hybrid: bool, w: float , c1: float, c2: float ):\n",
        "        \"\"\"\n",
        "        Generates particles with k clusters and t-dimensional points\n",
        "        :return:\n",
        "        \"\"\"\n",
        "        for i in range(self.n_particles):\n",
        "            particle = Particle(n_clusters=self.n_clusters, data=self.data, use_kmeans=hybrid, w=w, c1=c1, c2=c2)\n",
        "            self.particles.append(particle)\n",
        "\n",
        "    def update_gbest(self, particle):\n",
        "        if particle.pbest_value < self.gbest_value:\n",
        "            self.gbest_value = particle.pbest_value\n",
        "            self.gbest_position = particle.pbest_position.copy()\n",
        "            self.gbest_clustering = particle.pbest_clustering.copy()\n",
        "\n",
        "    def start(self, iteration=2000, plot=False) -> Tuple[np.ndarray, float]:\n",
        "        \"\"\"\n",
        "        :param plot: = True will plot the global best data clusters\n",
        "        :param iteration: number of max iteration\n",
        "        :return: (best cluster, best fitness value)\n",
        "        \"\"\"\n",
        "        self.print_initial(iteration, plot)\n",
        "        progress = []\n",
        "        # Iterate until the max iteration\n",
        "        for i in range(iteration):\n",
        "            if i % 400 == 0:\n",
        "                clusters = self.gbest_clustering\n",
        "                print('iteration', i, 'GBest =', self.gbest_value)\n",
        "                print('best clusters so far = ', clusters)\n",
        "                if plot:\n",
        "                    centroids = self.gbest_position\n",
        "                    if clusters is not None:\n",
        "                        plt.scatter(self.data[:, 0], self.data[:, 1], c=clusters, cmap='plasma')\n",
        "                        plt.scatter(centroids[:, 0], centroids[:, 1], c='black', s=400, alpha=0.5)\n",
        "                        plt.show()\n",
        "                    else:  # if there is no clusters yet ( iteration = 0 ) plot the data with no clusters\n",
        "                        plt.scatter(self.data[:, 0], self.data[:, 1])\n",
        "                        plt.show()\n",
        "\n",
        "            for particle in self.particles:\n",
        "                particle.update_pbest(data=self.data)\n",
        "                self.update_gbest(particle=particle)\n",
        "\n",
        "            for particle in self.particles:\n",
        "                particle.move_centroids(gbest_position=self.gbest_position)\n",
        "            progress.append([self.gbest_position, self.gbest_clustering, self.gbest_value])\n",
        "\n",
        "        print('Finished!')\n",
        "        return self.gbest_clustering, self.gbest_value"
      ],
      "metadata": {
        "id": "-IoqzICO7DU3"
      },
      "execution_count": null,
      "outputs": []
    },
    {
      "cell_type": "code",
      "source": [
        "plot = True\n",
        "data = pd.read_csv('gdrive/My Drive/Bloodtype.txt', sep='\\t',error_bad_lines=False, header=None)\n",
        "clusters = data[7].values\n",
        "data = data.drop([7], axis=1)"
      ],
      "metadata": {
        "id": "uYU_tv8i8unH"
      },
      "execution_count": null,
      "outputs": []
    },
    {
      "cell_type": "code",
      "source": [
        "# if you want to plot you can only show 2 points! so will use 2 points of data\n",
        "if plot:\n",
        "    data = data[[0, 1]]\n",
        "# convert to numpy 2d array\n",
        "data = data.values\n",
        "pso = PSOClustering(n_clusters=4, n_particles=50, data=data, hybrid=True)\n",
        "pso.start(iteration=2000, plot=plot)\n"
      ],
      "metadata": {
        "colab": {
          "base_uri": "https://localhost:8080/",
          "height": 1000
        },
        "id": "CMSC5BzHAKbT",
        "outputId": "99680038-728e-41eb-be8c-e8b3896be3d0"
      },
      "execution_count": null,
      "outputs": [
        {
          "output_type": "stream",
          "name": "stdout",
          "text": [
            "Initialing swarm with 50 PARTICLES,  4 CLUSTERS with 2000 MAX ITERATIONS and with PLOT = True ***\n",
            "Data= 200 points in 2 dimensions\n",
            "iteration 0 GBest = inf\n",
            "best clusters so far =  None\n"
          ]
        },
        {
          "output_type": "display_data",
          "data": {
            "image/png": "[encoded data removed]",
            "text/plain": [
              "<Figure size 432x288 with 1 Axes>"
            ]
          },
          "metadata": {
            "needs_background": "light"
          }
        },
        {
          "output_type": "stream",
          "name": "stdout",
          "text": [
            "iteration 400 GBest = 0.6374879366125505\n",
            "best clusters so far =  [1 2 2 2 1 2 2 2 1 1 1 2 2 2 2 2 2 1 2 0 2 2 1 0 2 1 0 0 2 2 0 1 2 2 2 1 1\n",
            " 1 2 2 2 2 0 1 2 2 1 2 2 2 2 1 2 2 2 2 2 2 1 0 0 0 0 2 0 0 2 2 2 0 3 1 1 3\n",
            " 1 1 1 3 3 1 1 3 3 3 3 3 3 3 3 3 3 3 3 3 3 1 3 3 3 3 1 3 3 3 3 3 3 3 3 3 3\n",
            " 3 3 3 3 3 3 3 3 3 3 3 1 3 1 3 3 3 3 3 3 3 1 1 1 1 1 1 1 1 0 2 2 0 0 0 0 0\n",
            " 0 0 0 0 0 0 0 0 0 0 0 0 0 0 0 0 0 0 0 0 0 0 0 0 0 0 0 0 0 0 0 0 0 0 0 0 0\n",
            " 0 0 0 0 0 0 0 0 0 0 0 0 2 0 0]\n"
          ]
        },
        {
          "output_type": "display_data",
          "data": {
            "image/png": "[encoded data removed]",
            "text/plain": [
              "<Figure size 432x288 with 1 Axes>"
            ]
          },
          "metadata": {
            "needs_background": "light"
          }
        },
        {
          "output_type": "stream",
          "name": "stdout",
          "text": [
            "iteration 800 GBest = 0.6341769347983593\n",
            "best clusters so far =  [2 2 2 2 2 2 2 2 2 2 2 2 2 2 0 2 2 2 2 0 2 2 2 0 2 2 0 0 2 0 0 2 2 2 2 2 2\n",
            " 1 2 2 0 0 0 2 2 2 2 2 2 2 2 2 2 2 2 2 2 2 2 0 3 3 0 0 0 0 2 2 2 0 1 1 1 1\n",
            " 1 1 1 1 1 1 2 1 1 1 1 1 1 1 1 1 1 1 1 1 1 1 1 1 1 1 2 1 1 1 1 1 1 1 1 1 1\n",
            " 1 1 1 1 1 1 1 1 1 1 1 2 1 2 1 1 1 1 1 1 1 2 2 2 2 1 2 2 2 0 0 0 0 3 3 3 0\n",
            " 0 3 3 0 0 3 3 3 3 0 3 3 0 0 0 0 3 0 0 0 3 3 3 3 3 3 3 3 3 3 3 0 3 0 0 3 0\n",
            " 3 3 3 3 3 3 3 3 3 0 0 0 0 0 0]\n"
          ]
        },
        {
          "output_type": "display_data",
          "data": {
            "image/png": "[encoded data removed]",
            "text/plain": [
              "<Figure size 432x288 with 1 Axes>"
            ]
          },
          "metadata": {
            "needs_background": "light"
          }
        },
        {
          "output_type": "stream",
          "name": "stdout",
          "text": [
            "iteration 1200 GBest = 0.6216572675082859\n",
            "best clusters so far =  [2 2 2 2 2 2 2 2 2 2 2 2 2 2 2 2 2 2 2 0 2 2 2 0 2 2 0 0 2 0 0 2 2 2 2 2 2\n",
            " 1 2 2 0 0 0 2 2 2 2 2 2 2 2 2 2 2 2 2 2 2 2 0 3 3 0 0 0 0 2 2 2 0 1 1 1 1\n",
            " 2 2 1 1 1 1 2 1 1 1 1 1 1 1 1 1 1 1 1 1 1 1 1 1 1 1 2 1 1 1 1 1 1 1 1 1 1\n",
            " 1 1 1 1 1 1 1 1 1 1 1 2 1 2 1 1 1 1 1 1 1 2 2 2 2 1 2 2 2 0 0 0 0 0 3 3 0\n",
            " 0 3 0 0 0 3 3 3 3 0 0 3 0 0 0 0 3 0 0 0 3 3 3 3 3 3 3 3 3 3 3 0 3 0 0 3 0\n",
            " 3 0 3 3 3 3 3 3 3 0 0 0 0 0 0]\n"
          ]
        },
        {
          "output_type": "display_data",
          "data": {
            "image/png": "[encoded data removed]",
            "text/plain": [
              "<Figure size 432x288 with 1 Axes>"
            ]
          },
          "metadata": {
            "needs_background": "light"
          }
        },
        {
          "output_type": "stream",
          "name": "stdout",
          "text": [
            "iteration 1600 GBest = 0.6190205159855378\n",
            "best clusters so far =  [2 2 2 2 2 2 2 2 2 2 2 2 2 2 2 2 2 2 2 0 2 2 2 0 2 2 0 0 2 0 0 2 2 2 2 2 2\n",
            " 1 2 2 0 0 0 2 2 2 2 2 2 2 2 2 2 2 2 2 2 2 2 0 3 3 0 0 0 0 2 2 2 0 1 1 1 1\n",
            " 2 2 1 1 1 1 2 1 1 1 1 1 1 1 1 1 1 1 1 1 1 1 1 1 1 1 2 1 1 1 1 1 1 1 1 1 1\n",
            " 1 1 1 1 1 1 1 1 1 1 1 2 1 2 1 1 1 1 1 1 1 2 2 2 2 1 2 2 2 0 0 0 0 0 3 3 0\n",
            " 0 3 3 0 0 3 3 3 3 0 0 3 0 0 0 0 3 0 0 0 3 3 3 3 3 3 3 3 3 3 3 0 3 0 0 3 0\n",
            " 3 0 3 3 3 3 3 3 3 0 0 0 0 0 0]\n"
          ]
        },
        {
          "output_type": "display_data",
          "data": {
            "image/png": "[encoded data removed]",
            "text/plain": [
              "<Figure size 432x288 with 1 Axes>"
            ]
          },
          "metadata": {
            "needs_background": "light"
          }
        },
        {
          "output_type": "stream",
          "name": "stdout",
          "text": [
            "Finished!\n"
          ]
        },
        {
          "output_type": "execute_result",
          "data": {
            "text/plain": [
              "(array([2, 2, 2, 2, 2, 2, 2, 2, 2, 2, 2, 2, 2, 2, 2, 2, 2, 2, 2, 0, 2, 2,\n",
              "        2, 0, 2, 2, 0, 0, 2, 0, 0, 2, 2, 2, 2, 2, 2, 1, 2, 2, 0, 0, 0, 2,\n",
              "        2, 2, 2, 2, 2, 2, 2, 2, 2, 2, 2, 2, 2, 2, 2, 0, 3, 3, 0, 0, 0, 0,\n",
              "        2, 2, 2, 0, 1, 1, 1, 1, 2, 2, 1, 1, 1, 1, 2, 1, 1, 1, 1, 1, 1, 1,\n",
              "        1, 1, 1, 1, 1, 1, 1, 1, 1, 1, 1, 1, 2, 1, 1, 1, 1, 1, 1, 1, 1, 1,\n",
              "        1, 1, 1, 1, 1, 1, 1, 1, 1, 1, 1, 1, 2, 1, 2, 1, 1, 1, 1, 1, 1, 1,\n",
              "        2, 2, 2, 2, 1, 2, 2, 2, 0, 0, 0, 0, 0, 3, 3, 0, 0, 3, 3, 0, 0, 3,\n",
              "        3, 3, 3, 0, 0, 3, 0, 0, 0, 0, 3, 0, 0, 0, 3, 3, 3, 3, 3, 3, 3, 3,\n",
              "        3, 3, 3, 0, 3, 0, 0, 3, 0, 3, 0, 3, 3, 3, 3, 3, 3, 3, 0, 0, 0, 0,\n",
              "        0, 0]), 0.618768095739989)"
            ]
          },
          "metadata": {},
          "execution_count": 8
        }
      ]
    },
    {
      "cell_type": "code",
      "source": [
        "pso_kmeans= KMeans(n_clusters=4)\n",
        "pso_kmeans.fit(data)\n",
        "y_pred=pso_kmeans.predict(data) \n",
        "data=np.argmax(data, axis=1)"
      ],
      "metadata": {
        "id": "K09jRGaPD0Qm"
      },
      "execution_count": null,
      "outputs": []
    },
    {
      "cell_type": "code",
      "source": [
        "print('F1 score:',f1_score(data,y_pred,pos_label='positive',average='macro'))"
      ],
      "metadata": {
        "colab": {
          "base_uri": "https://localhost:8080/"
        },
        "id": "QZVi63BVM3qP",
        "outputId": "63e78176-fd61-4bcf-bdc3-a83160ee7701"
      },
      "execution_count": null,
      "outputs": [
        {
          "output_type": "stream",
          "name": "stdout",
          "text": [
            "F1 score: 0.25058339052848316\n"
          ]
        },
        {
          "output_type": "stream",
          "name": "stderr",
          "text": [
            "/usr/local/lib/python3.7/dist-packages/sklearn/metrics/_classification.py:1365: UserWarning: Note that pos_label (set to 'positive') is ignored when average != 'binary' (got 'macro'). You may use labels=[pos_label] to specify a single positive class.\n",
            "  UserWarning,\n"
          ]
        }
      ]
    },
    {
      "cell_type": "code",
      "source": [
        "print('Accuracy:',precision_score(data,y_pred,pos_label='positive',average='macro'))"
      ],
      "metadata": {
        "colab": {
          "base_uri": "https://localhost:8080/"
        },
        "id": "7OBONQWGMxOQ",
        "outputId": "96a3ff15-f330-44a0-c72c-30b2e7e4c960"
      },
      "execution_count": null,
      "outputs": [
        {
          "output_type": "stream",
          "name": "stdout",
          "text": [
            "Accuracy: 0.390625\n"
          ]
        },
        {
          "output_type": "stream",
          "name": "stderr",
          "text": [
            "/usr/local/lib/python3.7/dist-packages/sklearn/metrics/_classification.py:1365: UserWarning: Note that pos_label (set to 'positive') is ignored when average != 'binary' (got 'macro'). You may use labels=[pos_label] to specify a single positive class.\n",
            "  UserWarning,\n"
          ]
        }
      ]
    },
    {
      "cell_type": "code",
      "source": [
        "print('Recall:', recall_score(data,y_pred,pos_label='positive',average='macro'))"
      ],
      "metadata": {
        "colab": {
          "base_uri": "https://localhost:8080/"
        },
        "id": "2qqQM1jdMzYV",
        "outputId": "2e76138c-e155-4e29-fc64-54de3eb6ddb6"
      },
      "execution_count": null,
      "outputs": [
        {
          "output_type": "stream",
          "name": "stdout",
          "text": [
            "Recall: 0.1847301778715707\n"
          ]
        },
        {
          "output_type": "stream",
          "name": "stderr",
          "text": [
            "/usr/local/lib/python3.7/dist-packages/sklearn/metrics/_classification.py:1365: UserWarning: Note that pos_label (set to 'positive') is ignored when average != 'binary' (got 'macro'). You may use labels=[pos_label] to specify a single positive class.\n",
            "  UserWarning,\n",
            "/usr/local/lib/python3.7/dist-packages/sklearn/metrics/_classification.py:1308: UndefinedMetricWarning: Recall is ill-defined and being set to 0.0 in labels with no true samples. Use `zero_division` parameter to control this behavior.\n",
            "  _warn_prf(average, modifier, msg_start, len(result))\n"
          ]
        }
      ]
    },
    {
      "cell_type": "code",
      "source": [
        "# For showing the actual clusters\n",
        "mapping = {'A': 0, 'B': 1, 'AB': 2, 'O':3}\n",
        "clusters = np.array([mapping[x] for x in clusters])\n",
        "print('Actual classes = ', clusters)"
      ],
      "metadata": {
        "colab": {
          "base_uri": "https://localhost:8080/"
        },
        "id": "wKj3h4uwARyo",
        "outputId": "25a19f73-06cb-4772-c54f-4b7ed3c94e00"
      },
      "execution_count": null,
      "outputs": [
        {
          "output_type": "stream",
          "name": "stdout",
          "text": [
            "Actual classes =  [0 0 0 0 0 0 0 0 0 0 0 0 0 0 0 0 0 0 0 0 0 0 0 0 0 0 0 0 0 0 0 0 0 0 0 0 0\n",
            " 0 0 0 0 0 0 0 0 0 0 0 0 0 1 1 1 1 1 1 1 1 1 1 1 1 1 1 1 1 1 1 1 1 1 1 1 1\n",
            " 1 1 1 1 1 1 1 1 1 1 1 1 1 1 1 1 1 1 1 1 1 1 1 1 1 1 2 2 2 2 2 2 2 2 2 2 2\n",
            " 2 2 2 2 2 2 2 2 2 2 2 2 2 2 2 2 2 2 2 2 2 2 2 2 2 2 2 2 2 2 2 2 2 2 2 2 2\n",
            " 2 2 3 3 3 3 3 3 3 3 3 3 3 3 3 3 3 3 3 3 3 3 3 3 3 3 3 3 3 3 3 3 3 3 3 3 3\n",
            " 3 3 3 3 3 3 3 3 3 3 3 3 3 3 3]\n"
          ]
        }
      ]
    }
  ]
}